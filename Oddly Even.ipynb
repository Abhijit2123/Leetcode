{
 "cells": [
  {
   "cell_type": "code",
   "execution_count": 20,
   "metadata": {},
   "outputs": [
    {
     "name": "stdout",
     "output_type": "stream",
     "text": [
      "5467\n",
      "0\n"
     ]
    }
   ],
   "source": [
    "class Test():\n",
    "    def check(arr):\n",
    "        lst = []\n",
    "        odd = 0\n",
    "        even = 0\n",
    "        for i in arr:\n",
    "            lst.append(i)\n",
    "        l = len(lst)\n",
    "        \n",
    "        for i in range(l):\n",
    "            if i % 2 == 0:\n",
    "                even = even + int(lst[i])\n",
    "            else:\n",
    "                odd = odd + int(lst[i])\n",
    "\n",
    "        res = even - odd\n",
    "        \n",
    "        if res < 1:\n",
    "            res = res * -1\n",
    "            \n",
    "        return res\n",
    "\n",
    "T = Test\n",
    "N = input()\n",
    "test = T.check(N)\n",
    "print(test)"
   ]
  },
  {
   "cell_type": "code",
   "execution_count": 18,
   "metadata": {},
   "outputs": [
    {
     "name": "stdout",
     "output_type": "stream",
     "text": [
      "5467\n",
      "0\n"
     ]
    }
   ],
   "source": [
    "N = [int(d) for d in input()]\n",
    "l = len(N)\n",
    "even = 0\n",
    "odd = 0\n",
    "for i in range(l):\n",
    "    if i % 2 != 0:\n",
    "        odd = odd + N[i]\n",
    "    else:\n",
    "        even = even + N[i]\n",
    "print(abs(odd - even))"
   ]
  },
  {
   "cell_type": "markdown",
   "metadata": {},
   "source": [
    "Given a maximum of 100 digit numbers as input, find the difference between the sum of odd and even position digits.\n",
    "\n",
    "Case 1\n",
    "Input: 4567\n",
    "Expected Output: 2\n",
    "Explanation : Odd positions are 4 and 6 as they are pos: 1 and pos: 3, both have sum 10. Similarly, 5 and 7 are at even positions pos: 2 and pos: 4 with sum 12. Thus, difference is 12 – 10 = 2\n",
    "\n",
    "Case 2\n",
    "\n",
    "Input: 5476\n",
    "Expected Output: 2"
   ]
  }
 ],
 "metadata": {
  "kernelspec": {
   "display_name": "Python 3",
   "language": "python",
   "name": "python3"
  },
  "language_info": {
   "codemirror_mode": {
    "name": "ipython",
    "version": 3
   },
   "file_extension": ".py",
   "mimetype": "text/x-python",
   "name": "python",
   "nbconvert_exporter": "python",
   "pygments_lexer": "ipython3",
   "version": "3.7.6"
  }
 },
 "nbformat": 4,
 "nbformat_minor": 4
}
