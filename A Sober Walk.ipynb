{
 "cells": [
  {
   "cell_type": "markdown",
   "metadata": {},
   "source": [
    "Scheme\n",
    "He first turns and travels 10 units of distance\n",
    "His second turn is upward for 20 units\n",
    "Third turn is to the left for 30 units\n",
    "Fourth turn is the downward for 40 units\n",
    "Fifth turn is to the right(again) for 50 units\n",
    "… And thus he travels, every time increasing the travel distance by 10 units.\n",
    "\n",
    "Test Cases\n",
    "Case 1\n",
    "Input : 3\n",
    "Expected Output :-20 20\n",
    "Case 2\n",
    "Input: 4\n",
    "Expected Output: -20 -20\n",
    "Case 3\n",
    "Input : 5\n",
    "Expected Output : 30 -20\n",
    "Case 4\n",
    "Input : 7\n",
    "Expected Output : 90 -20"
   ]
  },
  {
   "cell_type": "code",
   "execution_count": 10,
   "metadata": {},
   "outputs": [
    {
     "name": "stdout",
     "output_type": "stream",
     "text": [
      "3\n",
      "-20 20\n"
     ]
    }
   ],
   "source": [
    "N = int(input())\n",
    "c = 'R'\n",
    "dist = 10\n",
    "x,y = 0,0\n",
    "for i in range(N):\n",
    "    if c == \"R\":\n",
    "        x = x + dist\n",
    "        dist = dist + 10\n",
    "        c = \"U\"\n",
    "    elif c == \"U\":\n",
    "        y = y + dist\n",
    "        dist = dist + 10\n",
    "        c = \"L\"\n",
    "    elif c == \"L\":\n",
    "        x = x - dist\n",
    "        dist = dist + 10\n",
    "        c = \"D\"\n",
    "    elif c == \"D\":\n",
    "        y = y - dist\n",
    "        dist = dist + 10\n",
    "        c = \"A\"\n",
    "    elif c == \"A\":\n",
    "        x = x + dist\n",
    "        dist = dist + 10\n",
    "        c = \"R\"\n",
    "print(x,y)"
   ]
  },
  {
   "cell_type": "code",
   "execution_count": 7,
   "metadata": {},
   "outputs": [
    {
     "name": "stdout",
     "output_type": "stream",
     "text": [
      "2\n",
      "10 20\n"
     ]
    }
   ],
   "source": []
  },
  {
   "cell_type": "code",
   "execution_count": null,
   "metadata": {},
   "outputs": [],
   "source": []
  }
 ],
 "metadata": {
  "kernelspec": {
   "display_name": "Python 3",
   "language": "python",
   "name": "python3"
  },
  "language_info": {
   "codemirror_mode": {
    "name": "ipython",
    "version": 3
   },
   "file_extension": ".py",
   "mimetype": "text/x-python",
   "name": "python",
   "nbconvert_exporter": "python",
   "pygments_lexer": "ipython3",
   "version": "3.7.6"
  }
 },
 "nbformat": 4,
 "nbformat_minor": 4
}
