{
 "cells": [
  {
   "cell_type": "markdown",
   "metadata": {},
   "source": [
    "1. Using a method, pass two variables and find the sum of two numbers.\n",
    "\n",
    "Test case:\n",
    "\n",
    "Number 1 – 20\n",
    "\n",
    "Number 2 – 20.38\n",
    "\n",
    "Sum = 40.38\n",
    "\n",
    "There were a total of 4 test cases. Once you compile 3 of them will be shown to you and 1 will be a hidden one. You have to display error message if numbers are not numeric."
   ]
  },
  {
   "cell_type": "code",
   "execution_count": 3,
   "metadata": {},
   "outputs": [
    {
     "name": "stdout",
     "output_type": "stream",
     "text": [
      "20\n",
      "20.38\n",
      "40.38\n"
     ]
    }
   ],
   "source": [
    "class Sum():\n",
    "    def check(N1, N2):\n",
    "        N1 = float(N1)\n",
    "        N2 = float(N2)\n",
    "        \n",
    "        res = N1 + N2\n",
    "        \n",
    "        res = round(res, 2)\n",
    "        \n",
    "        return res\n",
    "    \n",
    "T = Sum\n",
    "N1 = input()\n",
    "N2 = input()\n",
    "test = T.check(N1, N2)\n",
    "print(test)"
   ]
  },
  {
   "cell_type": "code",
   "execution_count": null,
   "metadata": {},
   "outputs": [],
   "source": []
  }
 ],
 "metadata": {
  "kernelspec": {
   "display_name": "Python 3",
   "language": "python",
   "name": "python3"
  }
 },
 "nbformat": 4,
 "nbformat_minor": 4
}
